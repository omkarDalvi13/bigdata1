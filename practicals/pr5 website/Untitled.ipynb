{
 "cells": [
  {
   "cell_type": "code",
   "execution_count": 4,
   "id": "cc5f44be",
   "metadata": {},
   "outputs": [
    {
     "name": "stdout",
     "output_type": "stream",
     "text": [
      "👤 Customer Name: Pushpendra Jaiswal\n",
      "⭐ Rating: 5\n",
      "💬 Review: Bahut achha hai Color bhi vahi hai ...👍\n",
      "🏷️ Tag: Not available in static HTML\n",
      "------------------------------------------------------------\n",
      "👤 Customer Name: Pooja Pawar\n",
      "⭐ Rating: 5\n",
      "💬 Review: Nice saree thank you meesho\n",
      "🏷️ Tag: Not available in static HTML\n",
      "------------------------------------------------------------\n"
     ]
    }
   ],
   "source": [
    "\n",
    "import requests \n",
    "from bs4 import BeautifulSoup  \n",
    "import json  \n",
    "\n",
    "url = 'https://www.meesho.com/banarasi-sarees-new-collection-banarasi-silk-sarees-2024-new-design-party-wear-silk-saree/p/7ky2ve'\n",
    "response = requests.get(url)  \n",
    "soup = BeautifulSoup(response.content, 'html.parser')  \n",
    "\n",
    "\n",
    "scripts = soup.find_all('script', type='application/ld+json')  \n",
    "\n",
    "\n",
    "for script in scripts:\n",
    "    try:\n",
    "        \n",
    "        data = json.loads(script.string)  \n",
    "        \n",
    "       \n",
    "        if \"review\" in data:\n",
    "            for review in data[\"review\"]: \n",
    "             \n",
    "                print(f\"👤 Customer Name: {review['author']['name']}\") \n",
    "                print(f\"⭐ Rating: {review['reviewRating']['ratingValue']}\")\n",
    "                print(f\"💬 Review: {review['reviewBody']}\")\n",
    "                print(\"🏷️ Tag: Not available in static HTML\") \n",
    "                print(\"-\" * 60)  \n",
    "    except Exception as e:\n",
    "         continue\n"
   ]
  },
  {
   "cell_type": "code",
   "execution_count": 5,
   "id": "d5ae79aa",
   "metadata": {},
   "outputs": [
    {
     "name": "stdout",
     "output_type": "stream",
     "text": [
      "⚠️ No reviews found in the static HTML. They may be loaded via JavaScript.\n"
     ]
    }
   ],
   "source": [
    "import requests\n",
    "from bs4 import BeautifulSoup\n",
    "import json\n",
    "\n",
    "url = 'https://www.meesho.com/banarasi-sarees-new-collection-banarasi-silk-sarees-2024-new-design-party-wear-silk-saree/p/7ky2ve'\n",
    "headers = {\n",
    "    \"User-Agent\": \"Mozilla/5.0\"\n",
    "}\n",
    "response = requests.get(url, headers=headers)\n",
    "soup = BeautifulSoup(response.content, 'html.parser')\n",
    "\n",
    "scripts = soup.find_all('script', type='application/ld+json')\n",
    "\n",
    "found = False\n",
    "for script in scripts:\n",
    "    try:\n",
    "        data = json.loads(script.string)\n",
    "\n",
    "        # Try to find reviews at top level\n",
    "        reviews = data.get(\"review\", [])\n",
    "        if isinstance(reviews, dict):\n",
    "            reviews = [reviews]\n",
    "\n",
    "        for review in reviews:\n",
    "            print(f\"👤 Customer Name: {review['author']['name']}\")\n",
    "            print(f\"⭐ Rating: {review['reviewRating']['ratingValue']}\")\n",
    "            print(f\"💬 Review: {review['reviewBody']}\")\n",
    "            print(\"🏷️ Tag: Not available in static HTML\")\n",
    "            print(\"-\" * 60)\n",
    "            found = True\n",
    "\n",
    "    except Exception:\n",
    "        continue\n",
    "\n",
    "if not found:\n",
    "    print(\"⚠️ No reviews found in the static HTML. They may be loaded via JavaScript.\")\n"
   ]
  },
  {
   "cell_type": "code",
   "execution_count": null,
   "id": "f69ea255",
   "metadata": {},
   "outputs": [],
   "source": []
  }
 ],
 "metadata": {
  "kernelspec": {
   "display_name": "Python 3 (ipykernel)",
   "language": "python",
   "name": "python3"
  },
  "language_info": {
   "codemirror_mode": {
    "name": "ipython",
    "version": 3
   },
   "file_extension": ".py",
   "mimetype": "text/x-python",
   "name": "python",
   "nbconvert_exporter": "python",
   "pygments_lexer": "ipython3",
   "version": "3.11.5"
  }
 },
 "nbformat": 4,
 "nbformat_minor": 5
}
